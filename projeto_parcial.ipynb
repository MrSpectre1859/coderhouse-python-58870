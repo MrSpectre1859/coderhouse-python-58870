{
 "cells": [
  {
   "cell_type": "code",
   "execution_count": 1,
   "metadata": {},
   "outputs": [],
   "source": [
    "import pandas as pd\n",
    "import requests\n",
    "from plyer import notification\n",
    "from datetime import datetime"
   ]
  },
  {
   "cell_type": "code",
   "execution_count": 2,
   "metadata": {},
   "outputs": [],
   "source": [
    "def py_notification(level, database, step):\n",
    "    now =str(datetime.now())\n",
    "    msg = f\"We have encountered an error when loading the database {database} on the {step} step.\\nTimestamp: {now}.\"\n",
    "\n",
    "    if level == 1:\n",
    "        title = \"Level 1 alert.\"\n",
    "    elif level == 2:\n",
    "        title = \"Attention! Level 2 alert.\"\n",
    "    elif level == 3:\n",
    "        title = \"DANGER! Level 3 alert.\"\n",
    "    else:\n",
    "        title = \"UNKNOWN LEVEL of alert! Please contact your IT support.\"\n",
    "\n",
    "    notification.notify(\n",
    "        title = title,\n",
    "        message = msg,\n",
    "        app_name = 'Alert',\n",
    "        timeout = 5\n",
    "    )"
   ]
  },
  {
   "cell_type": "code",
   "execution_count": 3,
   "metadata": {},
   "outputs": [],
   "source": [
    "def validate_data(df, expected_columns, database):\n",
    "    for column in expected_columns:\n",
    "        if column not in df.columns:\n",
    "            py_notification(3, database, 'VALIDAÇÃO DE DADOS')\n",
    "            return False\n",
    "    return True"
   ]
  },
  {
   "cell_type": "code",
   "execution_count": 4,
   "metadata": {},
   "outputs": [],
   "source": [
    "# Ler CEPs do arquivo CSV\n",
    "df_ceps = pd.read_csv('ceps.csv')\n",
    "ceps = df_ceps['cep'].tolist()"
   ]
  },
  {
   "cell_type": "code",
   "execution_count": 5,
   "metadata": {},
   "outputs": [],
   "source": [
    "data_table_1 = []\n",
    "log_ceps = {'status_200' : [], 'status_404' : []}\n",
    "\n",
    "for cep in ceps:\n",
    "    url = f'https://brasilapi.com.br/api/cep/v1/{cep}'\n",
    "    response = requests.get(url)\n",
    "    if response.status_code == 200:\n",
    "        data_table_1.append(response.json())\n",
    "        log_ceps['status_200'].append(cep)\n",
    "    else:\n",
    "        log_ceps['status_404'].append(cep)\n",
    "\n",
    "    if len(log_ceps['status_404']) > 0:\n",
    "        py_notification(1, 'CEPs', 'EXTRAÇÃO DE DADOS')"
   ]
  },
  {
   "cell_type": "code",
   "execution_count": 6,
   "metadata": {},
   "outputs": [
    {
     "data": {
      "text/html": [
       "<div>\n",
       "<style scoped>\n",
       "    .dataframe tbody tr th:only-of-type {\n",
       "        vertical-align: middle;\n",
       "    }\n",
       "\n",
       "    .dataframe tbody tr th {\n",
       "        vertical-align: top;\n",
       "    }\n",
       "\n",
       "    .dataframe thead th {\n",
       "        text-align: right;\n",
       "    }\n",
       "</style>\n",
       "<table border=\"1\" class=\"dataframe\">\n",
       "  <thead>\n",
       "    <tr style=\"text-align: right;\">\n",
       "      <th></th>\n",
       "      <th>cep</th>\n",
       "      <th>estado</th>\n",
       "      <th>cidade</th>\n",
       "      <th>bairro</th>\n",
       "      <th>rua</th>\n",
       "    </tr>\n",
       "  </thead>\n",
       "  <tbody>\n",
       "    <tr>\n",
       "      <th>0</th>\n",
       "      <td>27511630</td>\n",
       "      <td>RJ</td>\n",
       "      <td>Resende</td>\n",
       "      <td>Barbosa Lima</td>\n",
       "      <td>Rua Engenheiro Jacinto Lameira Filho</td>\n",
       "    </tr>\n",
       "    <tr>\n",
       "      <th>1</th>\n",
       "      <td>27323330</td>\n",
       "      <td>RJ</td>\n",
       "      <td>Barra Mansa</td>\n",
       "      <td>Ano Bom</td>\n",
       "      <td>Rua Francisco Calderaro Filho</td>\n",
       "    </tr>\n",
       "  </tbody>\n",
       "</table>\n",
       "</div>"
      ],
      "text/plain": [
       "        cep estado       cidade        bairro  \\\n",
       "0  27511630     RJ      Resende  Barbosa Lima   \n",
       "1  27323330     RJ  Barra Mansa       Ano Bom   \n",
       "\n",
       "                                    rua  \n",
       "0  Rua Engenheiro Jacinto Lameira Filho  \n",
       "1         Rua Francisco Calderaro Filho  "
      ]
     },
     "execution_count": 6,
     "metadata": {},
     "output_type": "execute_result"
    }
   ],
   "source": [
    "df_table_1 = pd.DataFrame(\n",
    "    {\n",
    "    'cep': [item['cep'] for item in data_table_1],\n",
    "    'estado': [item['state'] for item in data_table_1],\n",
    "    'cidade': [item['city'] for item in data_table_1],\n",
    "    'bairro': [item['neighborhood'] for item in data_table_1],\n",
    "    'rua': [item['street'] for item in data_table_1]\n",
    "    }\n",
    ")\n",
    "\n",
    "df_table_1"
   ]
  },
  {
   "cell_type": "code",
   "execution_count": 7,
   "metadata": {},
   "outputs": [
    {
     "data": {
      "text/html": [
       "<div>\n",
       "<style scoped>\n",
       "    .dataframe tbody tr th:only-of-type {\n",
       "        vertical-align: middle;\n",
       "    }\n",
       "\n",
       "    .dataframe tbody tr th {\n",
       "        vertical-align: top;\n",
       "    }\n",
       "\n",
       "    .dataframe thead th {\n",
       "        text-align: right;\n",
       "    }\n",
       "</style>\n",
       "<table border=\"1\" class=\"dataframe\">\n",
       "  <thead>\n",
       "    <tr style=\"text-align: right;\">\n",
       "      <th></th>\n",
       "      <th>estado</th>\n",
       "      <th>nome</th>\n",
       "      <th>codigo_ibge</th>\n",
       "    </tr>\n",
       "  </thead>\n",
       "  <tbody>\n",
       "    <tr>\n",
       "      <th>0</th>\n",
       "      <td>RJ</td>\n",
       "      <td>ANGRA DOS REIS</td>\n",
       "      <td>3300100</td>\n",
       "    </tr>\n",
       "    <tr>\n",
       "      <th>1</th>\n",
       "      <td>RJ</td>\n",
       "      <td>APERIBE</td>\n",
       "      <td>3300159</td>\n",
       "    </tr>\n",
       "    <tr>\n",
       "      <th>2</th>\n",
       "      <td>RJ</td>\n",
       "      <td>ARARUAMA</td>\n",
       "      <td>3300209</td>\n",
       "    </tr>\n",
       "    <tr>\n",
       "      <th>3</th>\n",
       "      <td>RJ</td>\n",
       "      <td>AREAL</td>\n",
       "      <td>3300225</td>\n",
       "    </tr>\n",
       "    <tr>\n",
       "      <th>4</th>\n",
       "      <td>RJ</td>\n",
       "      <td>ARMACAO DOS BUZIOS</td>\n",
       "      <td>3300233</td>\n",
       "    </tr>\n",
       "    <tr>\n",
       "      <th>...</th>\n",
       "      <td>...</td>\n",
       "      <td>...</td>\n",
       "      <td>...</td>\n",
       "    </tr>\n",
       "    <tr>\n",
       "      <th>87</th>\n",
       "      <td>RJ</td>\n",
       "      <td>TRES RIOS</td>\n",
       "      <td>3306008</td>\n",
       "    </tr>\n",
       "    <tr>\n",
       "      <th>88</th>\n",
       "      <td>RJ</td>\n",
       "      <td>VALENCA</td>\n",
       "      <td>3306107</td>\n",
       "    </tr>\n",
       "    <tr>\n",
       "      <th>89</th>\n",
       "      <td>RJ</td>\n",
       "      <td>VARRE-SAI</td>\n",
       "      <td>3306156</td>\n",
       "    </tr>\n",
       "    <tr>\n",
       "      <th>90</th>\n",
       "      <td>RJ</td>\n",
       "      <td>VASSOURAS</td>\n",
       "      <td>3306206</td>\n",
       "    </tr>\n",
       "    <tr>\n",
       "      <th>91</th>\n",
       "      <td>RJ</td>\n",
       "      <td>VOLTA REDONDA</td>\n",
       "      <td>3306305</td>\n",
       "    </tr>\n",
       "  </tbody>\n",
       "</table>\n",
       "<p>92 rows × 3 columns</p>\n",
       "</div>"
      ],
      "text/plain": [
       "   estado                nome codigo_ibge\n",
       "0      RJ      ANGRA DOS REIS     3300100\n",
       "1      RJ             APERIBE     3300159\n",
       "2      RJ            ARARUAMA     3300209\n",
       "3      RJ               AREAL     3300225\n",
       "4      RJ  ARMACAO DOS BUZIOS     3300233\n",
       "..    ...                 ...         ...\n",
       "87     RJ           TRES RIOS     3306008\n",
       "88     RJ             VALENCA     3306107\n",
       "89     RJ           VARRE-SAI     3306156\n",
       "90     RJ           VASSOURAS     3306206\n",
       "91     RJ       VOLTA REDONDA     3306305\n",
       "\n",
       "[92 rows x 3 columns]"
      ]
     },
     "execution_count": 7,
     "metadata": {},
     "output_type": "execute_result"
    }
   ],
   "source": [
    "states = df_table_1['estado'].unique()\n",
    "\n",
    "data_table_2 = []\n",
    "\n",
    "data_table_2 = []\n",
    "log_cities = {'status_200': [], 'status_404': []}\n",
    "\n",
    "for state in states:\n",
    "    url = f'https://brasilapi.com.br/api/ibge/municipios/v1/{state}?providers=dados-abertos-br,gov,wikipedia'\n",
    "    response = requests.get(url)\n",
    "    if response.status_code == 200:\n",
    "        data_table_2.extend(response.json())\n",
    "        log_cities['status_200'].append(state)\n",
    "    else:\n",
    "        log_cities['status_404'].append(state)\n",
    "\n",
    "if len(log_cities['status_404']) > 0:\n",
    "    py_notification(1, 'STATES', 'EXTRAÇÃO DE DADOS')\n",
    "\n",
    "df_table_2 = pd.DataFrame(\n",
    "    {\n",
    "    'estado': state,\n",
    "    'nome': [item['nome'] for item in data_table_2],\n",
    "    'codigo_ibge': [item['codigo_ibge'] for item in data_table_2]\n",
    "    }\n",
    ")\n",
    "\n",
    "df_table_2"
   ]
  },
  {
   "cell_type": "code",
   "execution_count": 8,
   "metadata": {},
   "outputs": [
    {
     "data": {
      "text/html": [
       "<div>\n",
       "<style scoped>\n",
       "    .dataframe tbody tr th:only-of-type {\n",
       "        vertical-align: middle;\n",
       "    }\n",
       "\n",
       "    .dataframe tbody tr th {\n",
       "        vertical-align: top;\n",
       "    }\n",
       "\n",
       "    .dataframe thead th {\n",
       "        text-align: right;\n",
       "    }\n",
       "</style>\n",
       "<table border=\"1\" class=\"dataframe\">\n",
       "  <thead>\n",
       "    <tr style=\"text-align: right;\">\n",
       "      <th></th>\n",
       "      <th>id</th>\n",
       "      <th>sigla</th>\n",
       "      <th>nome</th>\n",
       "      <th>id_regiao</th>\n",
       "      <th>sigla_regiao</th>\n",
       "      <th>nome_regiao</th>\n",
       "    </tr>\n",
       "  </thead>\n",
       "  <tbody>\n",
       "    <tr>\n",
       "      <th>0</th>\n",
       "      <td>33</td>\n",
       "      <td>RJ</td>\n",
       "      <td>Rio de Janeiro</td>\n",
       "      <td>3</td>\n",
       "      <td>SE</td>\n",
       "      <td>Sudeste</td>\n",
       "    </tr>\n",
       "  </tbody>\n",
       "</table>\n",
       "</div>"
      ],
      "text/plain": [
       "   id sigla            nome  id_regiao sigla_regiao nome_regiao\n",
       "0  33    RJ  Rio de Janeiro          3           SE     Sudeste"
      ]
     },
     "execution_count": 8,
     "metadata": {},
     "output_type": "execute_result"
    }
   ],
   "source": [
    "data_table_3 = []\n",
    "log_states = {'status_200': [], 'status_404': []}\n",
    "\n",
    "for state in states:\n",
    "    url = f'https://brasilapi.com.br/api/ibge/uf/v1/{state}'\n",
    "    response = requests.get(url)\n",
    "    if response.status_code == 200:\n",
    "        data_table_3.append(response.json())\n",
    "        log_states['status_200'].append(state)\n",
    "    else:\n",
    "        log_states['status_404'].append(state)\n",
    "\n",
    "if len(log_states['status_404']) > 0:\n",
    "    py_notification(1, 'API - Estados', 'EXTRAÇÃO DE DADOS')\n",
    "\n",
    "df_table_3 = pd.DataFrame({\n",
    "    'id': [item['id'] for item in data_table_3],\n",
    "    'sigla': [item['sigla'] for item in data_table_3],\n",
    "    'nome': [item['nome'] for item in data_table_3],\n",
    "    'id_regiao': [item['regiao']['id'] for item in data_table_3],\n",
    "    'sigla_regiao': [item['regiao']['sigla'] for item in data_table_3],\n",
    "    'nome_regiao': [item['regiao']['nome'] for item in data_table_3]\n",
    "})\n",
    "\n",
    "df_table_3"
   ]
  },
  {
   "cell_type": "code",
   "execution_count": 9,
   "metadata": {},
   "outputs": [],
   "source": [
    "try:\n",
    "    assert validate_data(df_table_1, ['cep', 'estado', 'cidade', 'bairro', 'rua'], 'df_table_1'), \"Erro na validação da tabela df_table_1\"\n",
    "except AssertionError as e:\n",
    "    print(e)\n",
    "\n",
    "try:\n",
    "    assert validate_data(df_table_2, ['estado', 'nome', 'codigo_ibge'], 'df_table_2'), \"Erro na validação da tabela df_table_2\"\n",
    "except AssertionError as e:\n",
    "    print(e)\n",
    "\n",
    "try:\n",
    "    assert validate_data(df_table_3, ['id', 'sigla', 'nome', 'id_regiao', 'sigla_regiao', 'nome_regiao'], 'df_table_3'), \"Erro na validação da tabela df_table_3\"\n",
    "except AssertionError as e:\n",
    "    print(e)"
   ]
  },
  {
   "cell_type": "code",
   "execution_count": 10,
   "metadata": {},
   "outputs": [],
   "source": [
    "from sqlalchemy import create_engine"
   ]
  },
  {
   "cell_type": "code",
   "execution_count": 11,
   "metadata": {},
   "outputs": [
    {
     "data": {
      "text/plain": [
       "1"
      ]
     },
     "execution_count": 11,
     "metadata": {},
     "output_type": "execute_result"
    }
   ],
   "source": [
    "# Armazenar os dados no banco de dados\n",
    "engine = create_engine('sqlite:///data.db')\n",
    "df_table_1.to_sql('cep_data', engine, index=False, if_exists='replace')\n",
    "df_table_2.to_sql('municipios_data', engine, index=False, if_exists='replace')\n",
    "df_table_3.to_sql('estados_data', engine, index=False, if_exists='replace')"
   ]
  },
  {
   "cell_type": "code",
   "execution_count": 12,
   "metadata": {},
   "outputs": [],
   "source": [
    "with pd.ExcelWriter('dados_extraidos_ceps.xlsx') as writer:\n",
    "    df_table_1.to_excel(writer, sheet_name='CEP', index=False)\n",
    "    df_table_2.to_excel(writer, sheet_name='Municipios', index=False)\n",
    "    df_table_3.to_excel(writer, sheet_name='Estados', index=False)"
   ]
  },
  {
   "cell_type": "code",
   "execution_count": 14,
   "metadata": {},
   "outputs": [],
   "source": [
    "notification.notify(\n",
    "        title = 'EXTRAÇÃO CONCLUÍDA!',\n",
    "        message = 'Os dados foram enviados para um documento excel dentro da pasta.',\n",
    "        app_name = 'Alert',\n",
    "        timeout = 10\n",
    "        )"
   ]
  }
 ],
 "metadata": {
  "kernelspec": {
   "display_name": "Python 3",
   "language": "python",
   "name": "python3"
  },
  "language_info": {
   "codemirror_mode": {
    "name": "ipython",
    "version": 3
   },
   "file_extension": ".py",
   "mimetype": "text/x-python",
   "name": "python",
   "nbconvert_exporter": "python",
   "pygments_lexer": "ipython3",
   "version": "3.11.6"
  }
 },
 "nbformat": 4,
 "nbformat_minor": 4
}
